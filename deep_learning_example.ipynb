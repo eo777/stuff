{
 "cells": [
  {
   "cell_type": "code",
   "execution_count": 252,
   "metadata": {},
   "outputs": [],
   "source": [
    "import csv\n",
    "import pandas as pd\n",
    "import seaborn as sns\n",
    "from sklearn.model_selection import StratifiedShuffleSplit\n",
    "from sklearn.pipeline import Pipeline\n",
    "from sklearn.preprocessing import StandardScaler\n",
    "from sklearn.preprocessing import Imputer\n",
    "import numpy as np\n",
    "from sklearn.base import BaseEstimator,TransformerMixin\n",
    "\n",
    "from sklearn.model_selection import GridSearchCV\n",
    "from sklearn.ensemble import RandomForestClassifier\n",
    "\n",
    "from sklearn.metrics import confusion_matrix\n",
    "from sklearn.model_selection import cross_val_predict\n",
    "\n",
    "from sklearn.model_selection import cross_val_score\n",
    "\n",
    "from sklearn.metrics import classification_report,mean_squared_error\n",
    "from sklearn import metrics\n",
    "\n",
    "import scipy as sp\n",
    "from sklearn.utils.class_weight import compute_class_weight\n",
    "from keras.wrappers.scikit_learn import KerasClassifier\n",
    "from sklearn.model_selection import RandomizedSearchCV\n",
    "\n",
    "from sklearn.preprocessing import OneHotEncoder\n",
    "from sklearn.preprocessing import LabelBinarizer\n",
    "from sklearn.compose import ColumnTransformer\n",
    "from sklearn.impute import SimpleImputer \n",
    "\n",
    "\n",
    "%matplotlib inline\n",
    "\n"
   ]
  },
  {
   "cell_type": "code",
   "execution_count": 52,
   "metadata": {},
   "outputs": [
    {
     "data": {
      "text/html": [
       "<div>\n",
       "<style scoped>\n",
       "    .dataframe tbody tr th:only-of-type {\n",
       "        vertical-align: middle;\n",
       "    }\n",
       "\n",
       "    .dataframe tbody tr th {\n",
       "        vertical-align: top;\n",
       "    }\n",
       "\n",
       "    .dataframe thead th {\n",
       "        text-align: right;\n",
       "    }\n",
       "</style>\n",
       "<table border=\"1\" class=\"dataframe\">\n",
       "  <thead>\n",
       "    <tr style=\"text-align: right;\">\n",
       "      <th></th>\n",
       "      <th>custAge</th>\n",
       "      <th>profession</th>\n",
       "      <th>marital</th>\n",
       "      <th>schooling</th>\n",
       "      <th>default</th>\n",
       "      <th>housing</th>\n",
       "      <th>loan</th>\n",
       "      <th>contact</th>\n",
       "      <th>month</th>\n",
       "      <th>day_of_week</th>\n",
       "      <th>...</th>\n",
       "      <th>previous</th>\n",
       "      <th>poutcome</th>\n",
       "      <th>emp.var.rate</th>\n",
       "      <th>cons.price.idx</th>\n",
       "      <th>cons.conf.idx</th>\n",
       "      <th>euribor3m</th>\n",
       "      <th>nr.employed</th>\n",
       "      <th>pmonths</th>\n",
       "      <th>pastEmail</th>\n",
       "      <th>responded</th>\n",
       "    </tr>\n",
       "  </thead>\n",
       "  <tbody>\n",
       "    <tr>\n",
       "      <th>0</th>\n",
       "      <td>55.0</td>\n",
       "      <td>admin.</td>\n",
       "      <td>single</td>\n",
       "      <td>university.degree</td>\n",
       "      <td>unknown</td>\n",
       "      <td>no</td>\n",
       "      <td>no</td>\n",
       "      <td>cellular</td>\n",
       "      <td>nov</td>\n",
       "      <td>mon</td>\n",
       "      <td>...</td>\n",
       "      <td>0</td>\n",
       "      <td>nonexistent</td>\n",
       "      <td>-0.1</td>\n",
       "      <td>93.200</td>\n",
       "      <td>-42.0</td>\n",
       "      <td>4.191</td>\n",
       "      <td>5195.8</td>\n",
       "      <td>999.0</td>\n",
       "      <td>0</td>\n",
       "      <td>no</td>\n",
       "    </tr>\n",
       "    <tr>\n",
       "      <th>1</th>\n",
       "      <td>NaN</td>\n",
       "      <td>blue-collar</td>\n",
       "      <td>married</td>\n",
       "      <td>NaN</td>\n",
       "      <td>no</td>\n",
       "      <td>no</td>\n",
       "      <td>no</td>\n",
       "      <td>cellular</td>\n",
       "      <td>jul</td>\n",
       "      <td>mon</td>\n",
       "      <td>...</td>\n",
       "      <td>0</td>\n",
       "      <td>nonexistent</td>\n",
       "      <td>1.4</td>\n",
       "      <td>93.918</td>\n",
       "      <td>-42.7</td>\n",
       "      <td>4.960</td>\n",
       "      <td>5228.1</td>\n",
       "      <td>999.0</td>\n",
       "      <td>0</td>\n",
       "      <td>no</td>\n",
       "    </tr>\n",
       "    <tr>\n",
       "      <th>2</th>\n",
       "      <td>42.0</td>\n",
       "      <td>technician</td>\n",
       "      <td>married</td>\n",
       "      <td>high.school</td>\n",
       "      <td>no</td>\n",
       "      <td>no</td>\n",
       "      <td>no</td>\n",
       "      <td>telephone</td>\n",
       "      <td>may</td>\n",
       "      <td>mon</td>\n",
       "      <td>...</td>\n",
       "      <td>0</td>\n",
       "      <td>nonexistent</td>\n",
       "      <td>1.1</td>\n",
       "      <td>93.994</td>\n",
       "      <td>-36.4</td>\n",
       "      <td>4.857</td>\n",
       "      <td>5191.0</td>\n",
       "      <td>999.0</td>\n",
       "      <td>0</td>\n",
       "      <td>no</td>\n",
       "    </tr>\n",
       "    <tr>\n",
       "      <th>3</th>\n",
       "      <td>55.0</td>\n",
       "      <td>management</td>\n",
       "      <td>divorced</td>\n",
       "      <td>NaN</td>\n",
       "      <td>unknown</td>\n",
       "      <td>yes</td>\n",
       "      <td>yes</td>\n",
       "      <td>cellular</td>\n",
       "      <td>jul</td>\n",
       "      <td>wed</td>\n",
       "      <td>...</td>\n",
       "      <td>0</td>\n",
       "      <td>nonexistent</td>\n",
       "      <td>1.4</td>\n",
       "      <td>93.918</td>\n",
       "      <td>-42.7</td>\n",
       "      <td>4.962</td>\n",
       "      <td>5228.1</td>\n",
       "      <td>999.0</td>\n",
       "      <td>0</td>\n",
       "      <td>no</td>\n",
       "    </tr>\n",
       "    <tr>\n",
       "      <th>4</th>\n",
       "      <td>NaN</td>\n",
       "      <td>admin.</td>\n",
       "      <td>divorced</td>\n",
       "      <td>university.degree</td>\n",
       "      <td>no</td>\n",
       "      <td>yes</td>\n",
       "      <td>no</td>\n",
       "      <td>cellular</td>\n",
       "      <td>may</td>\n",
       "      <td>tue</td>\n",
       "      <td>...</td>\n",
       "      <td>1</td>\n",
       "      <td>failure</td>\n",
       "      <td>-1.8</td>\n",
       "      <td>92.893</td>\n",
       "      <td>-46.2</td>\n",
       "      <td>1.291</td>\n",
       "      <td>5099.1</td>\n",
       "      <td>999.0</td>\n",
       "      <td>1</td>\n",
       "      <td>no</td>\n",
       "    </tr>\n",
       "  </tbody>\n",
       "</table>\n",
       "<p>5 rows × 22 columns</p>\n",
       "</div>"
      ],
      "text/plain": [
       "   custAge   profession   marital          schooling  default housing loan  \\\n",
       "0     55.0       admin.    single  university.degree  unknown      no   no   \n",
       "1      NaN  blue-collar   married                NaN       no      no   no   \n",
       "2     42.0   technician   married        high.school       no      no   no   \n",
       "3     55.0   management  divorced                NaN  unknown     yes  yes   \n",
       "4      NaN       admin.  divorced  university.degree       no     yes   no   \n",
       "\n",
       "     contact month day_of_week    ...      previous     poutcome  \\\n",
       "0   cellular   nov         mon    ...             0  nonexistent   \n",
       "1   cellular   jul         mon    ...             0  nonexistent   \n",
       "2  telephone   may         mon    ...             0  nonexistent   \n",
       "3   cellular   jul         wed    ...             0  nonexistent   \n",
       "4   cellular   may         tue    ...             1      failure   \n",
       "\n",
       "   emp.var.rate cons.price.idx  cons.conf.idx  euribor3m  nr.employed  \\\n",
       "0          -0.1         93.200          -42.0      4.191       5195.8   \n",
       "1           1.4         93.918          -42.7      4.960       5228.1   \n",
       "2           1.1         93.994          -36.4      4.857       5191.0   \n",
       "3           1.4         93.918          -42.7      4.962       5228.1   \n",
       "4          -1.8         92.893          -46.2      1.291       5099.1   \n",
       "\n",
       "   pmonths  pastEmail  responded  \n",
       "0    999.0          0         no  \n",
       "1    999.0          0         no  \n",
       "2    999.0          0         no  \n",
       "3    999.0          0         no  \n",
       "4    999.0          1         no  \n",
       "\n",
       "[5 rows x 22 columns]"
      ]
     },
     "execution_count": 52,
     "metadata": {},
     "output_type": "execute_result"
    }
   ],
   "source": [
    "data = pd.read_csv('marketing_training.csv')\n",
    "data_test =  pd.read_csv('marketing_test.csv')\n",
    "data.head()"
   ]
  },
  {
   "cell_type": "code",
   "execution_count": 71,
   "metadata": {},
   "outputs": [],
   "source": [
    "\n",
    "#simple class to adjust the values of certain columns\n",
    "class AdjustValues(BaseEstimator,TransformerMixin):\n",
    "    def __init__(self,target_columns):\n",
    "        self.target_columns = target_columns\n",
    "    def fit(self,X,y=None):\n",
    "        return self\n",
    "    def transform(self,X,y=None):\n",
    "        for c in self.target_columns:\n",
    "            X.loc[X[c] == 999, [c]] = 0\n",
    "        return X.values\n",
    "    "
   ]
  },
  {
   "cell_type": "code",
   "execution_count": 373,
   "metadata": {},
   "outputs": [],
   "source": [
    "#create our data pipelines\n",
    "cat_cols = ['marital','schooling','default','housing','loan','contact','day_of_week','poutcome']\n",
    "num_cols = ['custAge','campaign','pdays','previous','emp.var.rate','cons.price.idx','cons.conf.idx','euribor3m','nr.employed','pmonths','pastEmail']\n",
    "drop_cols = ['profession','month']\n",
    "target_cols = ['responded']\n",
    "\n",
    "num_pipeline = Pipeline([\n",
    "        ('adjust_999_values',AdjustValues(['pdays','pmonths'])),\n",
    "        ('imputer', SimpleImputer(strategy=\"median\")),\n",
    "        ('std_scaler', StandardScaler()),\n",
    "    ])\n",
    "\n",
    "\n",
    "cat_pipeline = Pipeline([\n",
    "        ('imputer', SimpleImputer(strategy=\"constant\",fill_value='unknown')),\n",
    "        ('one_hot_encoding',  OneHotEncoder(handle_unknown='ignore')),\n",
    "    ])\n",
    "\n",
    "full_pipeline = ColumnTransformer([\n",
    "        (\"num\", num_pipeline, num_cols),\n",
    "        (\"cat\", cat_pipeline, cat_cols),\n",
    "    ])"
   ]
  },
  {
   "cell_type": "code",
   "execution_count": 711,
   "metadata": {},
   "outputs": [],
   "source": [
    "split = StratifiedShuffleSplit(n_splits=1,test_size=0.2,random_state=32)\n",
    "\n",
    "for train_index,test_index in split.split(data,data[\"responded\"]):\n",
    "    train_set_strat = data.loc[train_index]\n",
    "    test_set_strat = data.loc[test_index]\n",
    "    \n",
    "\n",
    "data_prepared = full_pipeline.fit(data)\n",
    "\n",
    "data_features = train_set_strat.drop(target_cols, axis=1)\n",
    "data_targets = train_set_strat.drop(num_cols+cat_cols+drop_cols,axis=1)\n",
    "\n",
    "test_features = test_set_strat.drop(target_cols, axis=1)\n",
    "test_targets = test_set_strat.drop(num_cols+cat_cols+drop_cols,axis=1)\n",
    "\n",
    "x_train = full_pipeline.transform(data_features)\n",
    "y_train = np.asarray(data_targets)\n",
    "\n",
    "\n",
    "x_test = full_pipeline.transform(test_set_strat)\n",
    "y_test = np.asarray(test_targets)\n",
    "\n",
    "y_test_bool = (y_test=='yes')\n",
    "y_train_bool = (y_train=='yes')\n",
    "\n",
    "#generate class weights\n",
    "bias_weight =  float(sum(train_set_strat['responded'] == 'no')/ float(sum(train_set_strat['responded'] == 'yes')))\n",
    "class_weights = compute_class_weight('balanced', np.unique(y_train), [x[0] for x in y_train])\n",
    "class_weights = dict(enumerate(class_weights))\n",
    "class_weights[1]=class_weights[1]\n",
    "\n",
    "\n"
   ]
  },
  {
   "cell_type": "code",
   "execution_count": 27,
   "metadata": {},
   "outputs": [
    {
     "name": "stderr",
     "output_type": "stream",
     "text": [
      "Using TensorFlow backend.\n"
     ]
    },
    {
     "data": {
      "text/plain": [
       "'2.2.4'"
      ]
     },
     "execution_count": 27,
     "metadata": {},
     "output_type": "execute_result"
    }
   ],
   "source": [
    "import keras\n",
    "from keras import models\n",
    "from keras import layers\n",
    "\n",
    "from keras import regularizers\n",
    "from keras import optimizers\n",
    "from keras.wrappers.scikit_learn import KerasClassifier\n",
    "keras.__version__"
   ]
  },
  {
   "cell_type": "code",
   "execution_count": null,
   "metadata": {},
   "outputs": [],
   "source": [
    "#define some of our metrics\n",
    "THRESHOLD = 0.5\n",
    "\n",
    "def precision(y_true, y_pred, threshold_shift=0.5-THRESHOLD):\n",
    "    beta = 1\n",
    "\n",
    "    # just in case of hipster activation at the final layer\n",
    "    y_pred = K.clip(y_pred, 0, 1)\n",
    "\n",
    "    # shifting the prediction threshold from .5 if needed\n",
    "    y_pred_bin = K.round(y_pred + threshold_shift)\n",
    "\n",
    "    tp = K.sum(K.round(y_true * y_pred_bin)) + K.epsilon()\n",
    "    fp = K.sum(K.round(K.clip(y_pred_bin - y_true, 0, 1)))\n",
    "    fn = K.sum(K.round(K.clip(y_true - y_pred, 0, 1)))\n",
    "\n",
    "    precision = tp / (tp + fp)\n",
    "    return precision\n",
    "\n",
    "\n",
    "def recall(y_true, y_pred, threshold_shift=0.5-THRESHOLD):\n",
    "    beta = 1\n",
    "\n",
    "    # just in case of hipster activation at the final layer\n",
    "    y_pred = K.clip(y_pred, 0, 1)\n",
    "\n",
    "    # shifting the prediction threshold from .5 if needed\n",
    "    y_pred_bin = K.round(y_pred + threshold_shift)\n",
    "\n",
    "    tp = K.sum(K.round(y_true * y_pred_bin)) + K.epsilon()\n",
    "    fp = K.sum(K.round(K.clip(y_pred_bin - y_true, 0, 1)))\n",
    "    fn = K.sum(K.round(K.clip(y_true - y_pred_bin, 0, 1)))\n",
    "\n",
    "    recall = tp / (tp + fn)\n",
    "    return recall\n",
    "\n",
    "\n",
    "def fbeta(y_true, y_pred, threshold_shift=0.5-THRESHOLD):\n",
    "    beta = 2\n",
    "\n",
    "    # just in case of hipster activation at the final layer\n",
    "    y_pred = K.clip(y_pred, 0, 1)\n",
    "\n",
    "    # shifting the prediction threshold from .5 if needed\n",
    "    y_pred_bin = K.round(y_pred + threshold_shift)\n",
    "\n",
    "    tp = K.sum(K.round(y_true * y_pred_bin)) + K.epsilon()\n",
    "    fp = K.sum(K.round(K.clip(y_pred_bin - y_true, 0, 1)))\n",
    "    fn = K.sum(K.round(K.clip(y_true - y_pred, 0, 1)))\n",
    "\n",
    "    precision = tp / (tp + fp)\n",
    "    recall = tp / (tp + fn)\n",
    "\n",
    "    beta_squared = beta ** 2\n",
    "    return (beta_squared + 1) * (precision * recall) / (beta_squared * precision + recall) "
   ]
  },
  {
   "cell_type": "code",
   "execution_count": 708,
   "metadata": {},
   "outputs": [],
   "source": [
    "#define our model\n",
    "def create_model():\n",
    "\n",
    "    model = models.Sequential()\n",
    "    model.add(layers.Dense(64,kernel_regularizer=regularizers.l2(0.001),\n",
    "                           activation='relu', input_shape=(43,)))\n",
    "    model.add(layers.Dropout(0.5))\n",
    "    model.add(layers.Dense(8,kernel_regularizer=regularizers.l2(0.001), activation='relu'))\n",
    "    model.add(layers.Dropout(0.32))\n",
    "    model.add(layers.Dense(1, activation='sigmoid'))\n",
    "    \n",
    "    model.compile(optimizer='adam',\n",
    "              loss='binary_crossentropy',\n",
    "              metrics=[fbeta,precision,recall,'accuracy'])\n",
    "    \n",
    "    return model\n"
   ]
  },
  {
   "cell_type": "code",
   "execution_count": 715,
   "metadata": {},
   "outputs": [
    {
     "name": "stdout",
     "output_type": "stream",
     "text": [
      "acc: 78.11%\trecall: 60.82%\n",
      "acc: 79.80%\trecall: 64.40%\n",
      "acc: 78.08%\trecall: 71.94%\n",
      "acc: 80.44%\trecall: 68.38%\n",
      "acc: 80.78%\trecall: 65.84%\n",
      "acc: 80.94%\trecall: 61.82%\n",
      "acc: 78.41%\trecall: 71.20%\n",
      "acc: 79.43%\trecall: 69.12%\n",
      "acc: 78.58%\trecall: 64.14%\n",
      "acc: 74.32%\trecall: 61.26%\n",
      "78.89% (+/- 1.84%)\n",
      "65.89% (+/- 3.88%)\n"
     ]
    }
   ],
   "source": [
    "#perform K-fold cross-validation\n",
    "kfold = StratifiedKFold(n_splits=10, shuffle=True, random_state=seed)\n",
    "acc_scores = []\n",
    "recall_scores=[]\n",
    "histories = []\n",
    "saved_models = []\n",
    "X = x_train\n",
    "Y= y_train_bool\n",
    "\n",
    "for train, test in kfold.split(X, Y):\n",
    "  # create model\n",
    "    m = create_model()\n",
    "    # Fit the model\n",
    "    history = m.fit(X[train], Y[train], epochs=100, batch_size=512, verbose=0,class_weight=class_weights)\n",
    "    saved_models.append(m)\n",
    "    histories.append(history)\n",
    "    \n",
    "    # evaluate the model\n",
    "    scores = m.evaluate(X[test], Y[test], verbose=0)\n",
    "    \n",
    "    print(\"%s: %.2f%%\\t%s: %.2f%%\" % (m.metrics_names[4], scores[4]*100,'recall', scores[3]*100)) \n",
    "    acc_scores.append(scores[4] * 100)\n",
    "    recall_scores.append(scores[3] * 100)\n",
    "    \n",
    "print(\"%.2f%% (+/- %.2f%%)\" % (np.mean(acc_scores), np.std(acc_scores)))\n",
    "print(\"%.2f%% (+/- %.2f%%)\" % (np.mean(recall_scores), np.std(recall_scores)))"
   ]
  },
  {
   "cell_type": "code",
   "execution_count": null,
   "metadata": {},
   "outputs": [],
   "source": [
    "def smooth_curve(points, factor=0.9):\n",
    "  smoothed_points = []\n",
    "  for point in points:\n",
    "    if smoothed_points:\n",
    "      previous = smoothed_points[-1]\n",
    "      smoothed_points.append(previous * factor + point * (1 - factor))\n",
    "    else:\n",
    "      smoothed_points.append(point)\n",
    "  return smoothed_points"
   ]
  },
  {
   "cell_type": "code",
   "execution_count": 723,
   "metadata": {},
   "outputs": [
    {
     "data": {
      "image/png": "[encoded data removed]",
      "text/plain": [
       "<Figure size 432x288 with 1 Axes>"
      ]
     },
     "metadata": {},
     "output_type": "display_data"
    }
   ],
   "source": [
    "#performing some analysis on cross validation\n",
    "sc = 'acc'\n",
    "num_epochs = len(histories[0].history[sc])\n",
    "average_history = [np.mean([x[i] for x in [s.history[sc] for s in histories]]) for i in range(num_epochs)]\n",
    "smooth_history = smooth_curve(average_history[10:])\n",
    "\n",
    "plt.plot(range(1, len(smooth_history) + 1), smooth_history)\n",
    "plt.xlabel('Epochs')\n",
    "plt.ylabel(sc)\n",
    "plt.show()"
   ]
  },
  {
   "cell_type": "code",
   "execution_count": 718,
   "metadata": {
    "scrolled": true
   },
   "outputs": [
    {
     "data": {
      "text/plain": [
       "<keras.callbacks.History at 0x16beafb10>"
      ]
     },
     "execution_count": 718,
     "metadata": {},
     "output_type": "execute_result"
    }
   ],
   "source": [
    "final_model = KerasClassifier(build_fn=create_model, \n",
    "                           epochs=100, \n",
    "                           batch_size=512, \n",
    "                           verbose=0)\n",
    "\n",
    "final_model.fit(x_train,y_train,class_weight=class_weights)"
   ]
  },
  {
   "cell_type": "code",
   "execution_count": 719,
   "metadata": {},
   "outputs": [
    {
     "name": "stdout",
     "output_type": "stream",
     "text": [
      "[[4372  887]\n",
      " [ 219  453]]\n"
     ]
    }
   ],
   "source": [
    "y_train_pred = final_model.predict(x_train)\n",
    "c_matrix = confusion_matrix(y_train,y_train_pred)\n",
    "print c_matrix"
   ]
  },
  {
   "cell_type": "code",
   "execution_count": 720,
   "metadata": {},
   "outputs": [
    {
     "name": "stdout",
     "output_type": "stream",
     "text": [
      "[[1079  236]\n",
      " [  58  110]]\n"
     ]
    }
   ],
   "source": [
    "y_test_pred = final_model.predict(x_test)\n",
    "c_matrix = confusion_matrix(y_test,y_test_pred)\n",
    "print c_matrix\n"
   ]
  },
  {
   "cell_type": "code",
   "execution_count": 721,
   "metadata": {},
   "outputs": [
    {
     "name": "stdout",
     "output_type": "stream",
     "text": [
      "              precision    recall  f1-score   support\n",
      "\n",
      "          no       0.95      0.83      0.89      5259\n",
      "         yes       0.34      0.67      0.45       672\n",
      "\n",
      "   micro avg       0.81      0.81      0.81      5931\n",
      "   macro avg       0.65      0.75      0.67      5931\n",
      "weighted avg       0.88      0.81      0.84      5931\n",
      "\n"
     ]
    }
   ],
   "source": [
    "print(classification_report(y_train,y_train_pred))"
   ]
  },
  {
   "cell_type": "code",
   "execution_count": 722,
   "metadata": {},
   "outputs": [
    {
     "name": "stdout",
     "output_type": "stream",
     "text": [
      "              precision    recall  f1-score   support\n",
      "\n",
      "          no       0.95      0.82      0.88      1315\n",
      "         yes       0.32      0.65      0.43       168\n",
      "\n",
      "   micro avg       0.80      0.80      0.80      1483\n",
      "   macro avg       0.63      0.74      0.65      1483\n",
      "weighted avg       0.88      0.80      0.83      1483\n",
      "\n"
     ]
    }
   ],
   "source": [
    "print(classification_report(y_test,y_test_pred))"
   ]
  },
  {
   "cell_type": "code",
   "execution_count": 691,
   "metadata": {},
   "outputs": [],
   "source": [
    "#create predictions and save them to CSV\n",
    "\n",
    "to_predict = pd.read_csv('marketing_test.csv')\n",
    "\n",
    "X = full_pipeline.transform(to_predict)\n",
    "Y = final_model.predict(X)\n",
    "\n",
    "out_data = to_predict.copy()\n",
    "out_data['responded'] = Y\n",
    "out_data.to_csv('predicted_values.csv')"
   ]
  },
  {
   "cell_type": "code",
   "execution_count": null,
   "metadata": {},
   "outputs": [],
   "source": []
  }
 ],
 "metadata": {
  "kernelspec": {
   "display_name": "Python 2",
   "language": "python",
   "name": "python2"
  }
 },
 "nbformat": 4,
 "nbformat_minor": 2
}
